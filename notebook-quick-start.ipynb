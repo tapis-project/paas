{
 "cells": [
  {
   "cell_type": "code",
   "execution_count": null,
   "metadata": {},
   "outputs": [],
   "source": [
    "import json\n",
    "import pprint as pp\n",
    "import requests as r\n",
    "from tapipy.tapis import Tapis\n",
    "\n",
    "# Set url\n",
    "url = \"https://tacc.tapis.io\"\n",
    "\n",
    "# Create Tapis object\n",
    "t = Tapis(base_url = url,\n",
    "          username = 'username',\n",
    "          password = 'password')\n",
    "t.get_tokens()\n",
    "\n",
    "# V3 Headers\n",
    "header_dat = {\"X-Tapis-Token\": t.access_token.access_token}"
   ]
  },
  {
   "cell_type": "markdown",
   "metadata": {},
   "source": [
    "### PgREST Endpoint Calls: Get, Post, Delete for /manage/tables and /data/{table_id}"
   ]
  },
  {
   "cell_type": "code",
   "execution_count": null,
   "metadata": {},
   "outputs": [],
   "source": [
    "# Get manage tables\n",
    "res = r.get(f'{url}/v3/pgrest/manage/tables',\n",
    "             headers=header_dat)\n",
    "pp.pprint(res.json())"
   ]
  },
  {
   "cell_type": "code",
   "execution_count": null,
   "metadata": {},
   "outputs": [],
   "source": [
    "# Create a test table definition (init_table_1) that we're going to make a table out of.\n",
    "init_table_1 = {'table_name': 'initial_table',\n",
    "                'root_url': 'init',\n",
    "                'columns': {'col_one': {'null': True, 'data_type': 'varchar', 'char_len': 255},\n",
    "                            'col_two': {'null': True, 'data_type': 'integer'},\n",
    "                            'col_three': {'null': True, 'data_type': 'integer'},\n",
    "                            'col_four': {'null': False, 'data_type': 'boolean', 'default': True},\n",
    "                            'col_five': {'null': True, 'data_type': 'varchar', 'char_len': 255}}}"
   ]
  },
  {
   "cell_type": "code",
   "execution_count": null,
   "metadata": {},
   "outputs": [],
   "source": [
    "# Create table\n",
    "res = r.post(f'{url}/v3/pgrest/manage/tables',\n",
    "             data=json.dumps(init_table_1),\n",
    "             headers=header_dat)\n",
    "pp.pprint(res.json())"
   ]
  },
  {
   "cell_type": "code",
   "execution_count": null,
   "metadata": {},
   "outputs": [],
   "source": [
    "# Add row to table\n",
    "data = {\"col_two\": 32, \"col_three\": 90, \"col_four\": False}\n",
    "res = r.post(f'{url}/v3/pgrest/data/init',\n",
    "            data = json.dumps({\"data\": data}),\n",
    "            headers=header_dat)\n",
    "pp.pprint(res.json())"
   ]
  },
  {
   "cell_type": "code",
   "execution_count": null,
   "metadata": {},
   "outputs": [],
   "source": [
    "# Get table rows\n",
    "res = r.get(f'{url}/v3/pgrest/data/init',\n",
    "            headers=header_dat)\n",
    "pp.pprint(res.json())"
   ]
  },
  {
   "cell_type": "code",
   "execution_count": null,
   "metadata": {},
   "outputs": [],
   "source": [
    "# Add row to table\n",
    "data = {\"col_one\": \"hello\", \"col_two\": 22, \"col_three\": 90, \"col_four\": False, \"col_five\": \"hehe\"}\n",
    "res = r.post(f'{url}/v3/pgrest/data/init',\n",
    "             data = json.dumps({\"data\": data}),\n",
    "             headers=header_dat)\n",
    "pp.pprint(res.json())"
   ]
  },
  {
   "cell_type": "markdown",
   "metadata": {},
   "source": [
    "## Views - Creating a view for the table just created"
   ]
  },
  {
   "cell_type": "code",
   "execution_count": null,
   "metadata": {},
   "outputs": [],
   "source": [
    "# Create view\n",
    "res = r.post(f'{url}/v3/pgrest/manage/views',\n",
    "             data=json.dumps({\"view_name\": \"testview\",\n",
    "                              \"select_query\": \"*\",\n",
    "                              \"from_table\": \"initial_table\",\n",
    "                              \"comments\": \"Test for new view.\",\n",
    "                              \"permission_rules\": [\"PGREST_ADMIN\"]}),\n",
    "             headers=header_dat)\n",
    "pp.pprint(res.json())"
   ]
  },
  {
   "cell_type": "code",
   "execution_count": null,
   "metadata": {},
   "outputs": [],
   "source": [
    "# Get manage view\n",
    "res = r.get(f'{url}/v3/pgrest/manage/views',\n",
    "                headers=header_dat)\n",
    "pp.pprint(res.json())"
   ]
  },
  {
   "cell_type": "code",
   "execution_count": null,
   "metadata": {},
   "outputs": [],
   "source": [
    "# Get view\n",
    "res = r.get(f'{url}/v3/pgrest/views/testview',\n",
    "            headers=header_dat)\n",
    "pp.pprint(res.json())"
   ]
  },
  {
   "cell_type": "code",
   "execution_count": null,
   "metadata": {},
   "outputs": [],
   "source": [
    "# Get view with where query\n",
    "res = r.get(f'{url}/v3/pgrest/views/testview?where_col_two=22',\n",
    "            headers=header_dat)\n",
    "pp.pprint(res.json())"
   ]
  },
  {
   "cell_type": "code",
   "execution_count": null,
   "metadata": {},
   "outputs": [],
   "source": [
    "# Delete view - Enter manage_view_id of the view\n",
    "res = r.delete(f'{url}/v3/pgrest/manage/views/###',\n",
    "               headers=header_dat)\n",
    "pp.pprint(res.json())"
   ]
  },
  {
   "cell_type": "code",
   "execution_count": null,
   "metadata": {},
   "outputs": [],
   "source": [
    "# Delete table - Enter table_id of the table\n",
    "res = r.delete(f'{url}/v3/pgrest/manage/tables/###',\n",
    "               headers=header_dat)\n",
    "\n",
    "pp.pprint(res.json())"
   ]
  }
 ],
 "metadata": {
  "interpreter": {
   "hash": "aee8b7b246df8f9039afb4144a1f6fd8d2ca17a180786b69acc140d282b71a49"
  },
  "kernelspec": {
   "display_name": "Python 3.8.1 64-bit",
   "name": "python3"
  },
  "language_info": {
   "codemirror_mode": {
    "name": "ipython",
    "version": 3
   },
   "file_extension": ".py",
   "mimetype": "text/x-python",
   "name": "python",
   "nbconvert_exporter": "python",
   "pygments_lexer": "ipython3",
   "version": "3.6.15"
  }
 },
 "nbformat": 4,
 "nbformat_minor": 4
}
