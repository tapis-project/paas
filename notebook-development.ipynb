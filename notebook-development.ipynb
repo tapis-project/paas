{
 "cells": [
  {
   "cell_type": "markdown",
   "metadata": {},
   "source": [
    "# In Container Development .ipynb"
   ]
  },
  {
   "cell_type": "code",
   "execution_count": null,
   "metadata": {},
   "outputs": [],
   "source": [
    "# In container dev ipynb\n",
    "import os\n",
    "import sys\n",
    "os.environ.setdefault('DJANGO_SETTINGS_MODULE', 'paas.settings')\n",
    "from django.core.management import execute_from_command_line\n",
    "# This next bit always fails, but does finish what we need. So we let in run.\n",
    "try:\n",
    "    execute_from_command_line(sys.argv)\n",
    "except:\n",
    "    pass\n",
    "\n",
    "import datetime\n",
    "import json\n",
    "import re\n",
    "import timeit\n",
    "\n",
    "import requests\n",
    "from cerberus import Validator\n",
    "from database_tenants.models import Tenants\n",
    "from django.db import transaction\n",
    "from django.http import (HttpResponse, HttpResponseBadRequest,\n",
    "                         HttpResponseForbidden, HttpResponseNotFound,\n",
    "                         HttpResponseServerError)\n",
    "from rest_framework.views import APIView\n",
    "\n",
    "from pgrest.db_transactions import (bulk_data, manage_tables, table_data,\n",
    "                                    view_data)\n",
    "from pgrest.models import ManageTables, ManageTablesTransition, ManageViews\n",
    "from tapisservice import errors\n",
    "from tapisservice.auth import get_tenant_id_from_base_url, t\n",
    "from tapisservice.logs import get_logger\n",
    "from pgrest.utils import (can_read, can_write, create_validate_schema,\n",
    "                          is_admin, is_role_admin, is_user, make_error,\n",
    "                          make_success)\n",
    "\n",
    "# Set schema to correct database with database_tenants\n",
    "from django.db import connection\n",
    "connection.set_schema('tacc')"
   ]
  },
  {
   "cell_type": "code",
   "execution_count": null,
   "metadata": {},
   "outputs": [],
   "source": [
    "table = ManageTables.objects.get(pk=1)\n",
    "table"
   ]
  }
 ],
 "metadata": {
  "interpreter": {
   "hash": "aee8b7b246df8f9039afb4144a1f6fd8d2ca17a180786b69acc140d282b71a49"
  },
  "kernelspec": {
   "display_name": "Python 3.8.1 64-bit",
   "name": "python3"
  },
  "language_info": {
   "codemirror_mode": {
    "name": "ipython",
    "version": 3
   },
   "file_extension": ".py",
   "mimetype": "text/x-python",
   "name": "python",
   "nbconvert_exporter": "python",
   "pygments_lexer": "ipython3",
   "version": "3.8.10"
  }
 },
 "nbformat": 4,
 "nbformat_minor": 4
}
