{
 "cells": [
  {
   "cell_type": "code",
   "execution_count": 3,
   "metadata": {},
   "outputs": [],
   "source": [
    "import json\n",
    "import pprint as pp\n",
    "import requests as r\n",
    "from tapipy.tapis import Tapis\n",
    "\n",
    "# Set url\n",
    "url = \"https://tacc.tapis.io\"\n",
    "\n",
    "# Create Tapis object\n",
    "t = Tapis(base_url = url,\n",
    "          username = 'username',\n",
    "          password = 'password')\n",
    "t.get_tokens()\n",
    "\n",
    "# V3 Headers\n",
    "header_dat = {\"X-Tapis-Token\": t.access_token.access_token}"
   ]
  },
  {
   "cell_type": "markdown",
   "metadata": {},
   "source": [
    "### PgREST Endpoint Calls: Get, Post, Delete for /manage/tables and /data/{table_id}"
   ]
  },
  {
   "cell_type": "code",
   "execution_count": 13,
   "metadata": {},
   "outputs": [
    {
     "name": "stdout",
     "output_type": "stream",
     "text": [
      "{'message': 'The request was successful.',\n",
      " 'result': [{'comments': '',\n",
      "             'endpoints': ['GET_ONE', 'GET_ALL', 'CREATE', 'UPDATE', 'DELETE'],\n",
      "             'primary_key': 'initial_table_id',\n",
      "             'root_url': 'init',\n",
      "             'table_id': 1,\n",
      "             'table_name': 'initial_table',\n",
      "             'tenant': 'dev',\n",
      "             'tenant_id': 'dev'}],\n",
      " 'status': 'success',\n",
      " 'version': 'dev'}\n"
     ]
    }
   ],
   "source": [
    "# Get manage tables\n",
    "res = r.get(f'{url}/v3/pgrest/manage/tables',\n",
    "             headers=header_dat)\n",
    "pp.pprint(res.json())"
   ]
  },
  {
   "cell_type": "code",
   "execution_count": 69,
   "metadata": {},
   "outputs": [],
   "source": [
    "# Create a test table definition (init_table_1) that we're going to make a table out of.\n",
    "init_table_1 = {'table_name': 'initial_table',\n",
    "                'root_url': 'init',\n",
    "                'columns': {'col_one': {'null': True, 'data_type': 'varchar', 'char_len': 255},\n",
    "                            'col_two': {'null': True, 'data_type': 'integer'},\n",
    "                            'col_three': {'null': True, 'data_type': 'integer'},\n",
    "                            'col_four': {'null': False, 'data_type': 'boolean', 'default': True},\n",
    "                            'col_five': {'null': True, 'data_type': 'varchar', 'char_len': 255}}}"
   ]
  },
  {
   "cell_type": "code",
   "execution_count": 74,
   "metadata": {},
   "outputs": [
    {
     "name": "stdout",
     "output_type": "stream",
     "text": [
      "{'message': 'The request was successful.',\n",
      " 'result': {'comments': '',\n",
      "            'endpoints': ['GET_ONE', 'GET_ALL', 'CREATE', 'UPDATE', 'DELETE'],\n",
      "            'root_url': 'init',\n",
      "            'table_id': 421,\n",
      "            'table_name': 'initial_table'},\n",
      " 'status': 'success',\n",
      " 'version': 'dev'}\n"
     ]
    }
   ],
   "source": [
    "# Create table\n",
    "res = r.post(f'{url}/v3/pgrest/manage/tables',\n",
    "             data=json.dumps(init_table_1),\n",
    "             headers=header_dat)\n",
    "pp.pprint(res.json())"
   ]
  },
  {
   "cell_type": "code",
   "execution_count": 75,
   "metadata": {},
   "outputs": [
    {
     "name": "stdout",
     "output_type": "stream",
     "text": [
      "{'message': 'The request was successful.',\n",
      " 'result': [{'_pkid': 1,\n",
      "             'col_five': None,\n",
      "             'col_four': False,\n",
      "             'col_one': None,\n",
      "             'col_three': 90,\n",
      "             'col_two': 32,\n",
      "             'initial_table_id': 1}],\n",
      " 'status': 'success',\n",
      " 'version': 'dev'}\n"
     ]
    }
   ],
   "source": [
    "# Add row to table\n",
    "data = {\"col_two\": 32, \"col_three\": 90, \"col_four\": False}\n",
    "res = r.post(f'{url}/v3/pgrest/data/init',\n",
    "            data = json.dumps({\"data\": data}),\n",
    "            headers=header_dat)\n",
    "pp.pprint(res.json())"
   ]
  },
  {
   "cell_type": "code",
   "execution_count": 76,
   "metadata": {},
   "outputs": [
    {
     "name": "stdout",
     "output_type": "stream",
     "text": [
      "{'message': 'The request was successful.',\n",
      " 'result': [{'_pkid': 1,\n",
      "             'col_five': None,\n",
      "             'col_four': False,\n",
      "             'col_one': None,\n",
      "             'col_three': 90,\n",
      "             'col_two': 32,\n",
      "             'initial_table_id': 1}],\n",
      " 'status': 'success',\n",
      " 'version': 'dev'}\n"
     ]
    }
   ],
   "source": [
    "# Get table rows\n",
    "res = r.get(f'{url}/v3/pgrest/data/init',\n",
    "            headers=header_dat)\n",
    "pp.pprint(res.json())"
   ]
  },
  {
   "cell_type": "code",
   "execution_count": 78,
   "metadata": {},
   "outputs": [
    {
     "name": "stdout",
     "output_type": "stream",
     "text": [
      "{'message': 'The request was successful.',\n",
      " 'result': [{'_pkid': 2,\n",
      "             'col_five': 'hehe',\n",
      "             'col_four': False,\n",
      "             'col_one': 'hello',\n",
      "             'col_three': 90,\n",
      "             'col_two': 22,\n",
      "             'initial_table_id': 2}],\n",
      " 'status': 'success',\n",
      " 'version': 'dev'}\n"
     ]
    }
   ],
   "source": [
    "# Add row to table\n",
    "data = {\"col_one\": \"hello\", \"col_two\": 22, \"col_three\": 90, \"col_four\": False, \"col_five\": \"hehe\"}\n",
    "res = r.post(f'{url}/v3/pgrest/data/init',\n",
    "             data = json.dumps({\"data\": data}),\n",
    "             headers=header_dat)\n",
    "pp.pprint(res.json())"
   ]
  },
  {
   "cell_type": "markdown",
   "metadata": {},
   "source": [
    "## Views - Creating a view for the table just created"
   ]
  },
  {
   "cell_type": "code",
   "execution_count": 80,
   "metadata": {},
   "outputs": [
    {
     "name": "stdout",
     "output_type": "stream",
     "text": [
      "{'message': 'The request was successful.',\n",
      " 'result': {'comments': 'Test for new view.',\n",
      "            'endpoints': ['GET_ONE', 'GET_ALL', 'CREATE', 'UPDATE', 'DELETE'],\n",
      "            'root_url': 'testview',\n",
      "            'view_id': 2,\n",
      "            'view_name': 'testview'},\n",
      " 'status': 'success',\n",
      " 'version': 'dev'}\n"
     ]
    }
   ],
   "source": [
    "# Create view\n",
    "res = r.post(f'{url}/v3/pgrest/manage/views',\n",
    "             data=json.dumps({\"view_name\": \"testview\",\n",
    "                              \"select_query\": \"*\",\n",
    "                              \"from_table\": \"initial_table\",\n",
    "                              \"comments\": \"Test for new view.\",\n",
    "                              \"permission_rules\": [\"PGREST_ADMIN\"]}),\n",
    "             headers=header_dat)\n",
    "pp.pprint(res.json())"
   ]
  },
  {
   "cell_type": "code",
   "execution_count": 81,
   "metadata": {},
   "outputs": [
    {
     "name": "stdout",
     "output_type": "stream",
     "text": [
      "{'message': 'The request was successful.',\n",
      " 'result': [{'comments': 'Test for new view.',\n",
      "             'endpoints': ['GET_ONE', 'GET_ALL', 'CREATE', 'UPDATE', 'DELETE'],\n",
      "             'manage_view_id': 2,\n",
      "             'root_url': 'testview',\n",
      "             'tenant_id': 'tacc',\n",
      "             'view_name': 'testview'}],\n",
      " 'status': 'success',\n",
      " 'version': 'dev'}\n"
     ]
    }
   ],
   "source": [
    "# Get manage view\n",
    "res = r.get(f'{url}/v3/pgrest/manage/views',\n",
    "                headers=header_dat)\n",
    "pp.pprint(res.json())"
   ]
  },
  {
   "cell_type": "code",
   "execution_count": 83,
   "metadata": {},
   "outputs": [
    {
     "name": "stdout",
     "output_type": "stream",
     "text": [
      "{'message': 'The request was successful.',\n",
      " 'result': [{'col_five': None,\n",
      "             'col_four': False,\n",
      "             'col_one': None,\n",
      "             'col_three': 90,\n",
      "             'col_two': 32,\n",
      "             'initial_table_id': 1},\n",
      "            {'col_five': 'hehe',\n",
      "             'col_four': False,\n",
      "             'col_one': 'hello',\n",
      "             'col_three': 90,\n",
      "             'col_two': 22,\n",
      "             'initial_table_id': 2}],\n",
      " 'status': 'success',\n",
      " 'version': 'dev'}\n"
     ]
    }
   ],
   "source": [
    "# Get view\n",
    "res = r.get(f'{url}/v3/pgrest/views/testview',\n",
    "            headers=header_dat)\n",
    "pp.pprint(res.json())"
   ]
  },
  {
   "cell_type": "code",
   "execution_count": 84,
   "metadata": {},
   "outputs": [
    {
     "name": "stdout",
     "output_type": "stream",
     "text": [
      "{'message': 'The request was successful.',\n",
      " 'result': [{'col_five': 'hehe',\n",
      "             'col_four': False,\n",
      "             'col_one': 'hello',\n",
      "             'col_three': 90,\n",
      "             'col_two': 22,\n",
      "             'initial_table_id': 2}],\n",
      " 'status': 'success',\n",
      " 'version': 'dev'}\n"
     ]
    }
   ],
   "source": [
    "# Get view with where query\n",
    "res = r.get(f'{url}/v3/pgrest/views/testview?where_col_two=22',\n",
    "            headers=header_dat)\n",
    "pp.pprint(res.json())"
   ]
  },
  {
   "cell_type": "code",
   "execution_count": 85,
   "metadata": {},
   "outputs": [
    {
     "name": "stdout",
     "output_type": "stream",
     "text": [
      "{'message': 'View deleted successfully.',\n",
      " 'result': None,\n",
      " 'status': 'success',\n",
      " 'version': 'dev'}\n"
     ]
    }
   ],
   "source": [
    "# Delete view - Enter manage_view_id of the view\n",
    "res = r.delete(f'{url}/v3/pgrest/manage/views/###',\n",
    "               headers=header_dat)\n",
    "pp.pprint(res.json())"
   ]
  },
  {
   "cell_type": "code",
   "execution_count": 86,
   "metadata": {},
   "outputs": [
    {
     "name": "stdout",
     "output_type": "stream",
     "text": [
      "{'message': 'Table deleted successfully.',\n",
      " 'result': None,\n",
      " 'status': 'success',\n",
      " 'version': 'dev'}\n"
     ]
    }
   ],
   "source": [
    "# Delete table - Enter table_id of the table\n",
    "res = r.delete(f'{url}/v3/pgrest/manage/tables/###',\n",
    "               headers=header_dat)\n",
    "pp.pprint(res.json())"
   ]
  },
  {
   "cell_type": "code",
   "execution_count": null,
   "metadata": {},
   "outputs": [],
   "source": []
  }
 ],
 "metadata": {
  "interpreter": {
   "hash": "aee8b7b246df8f9039afb4144a1f6fd8d2ca17a180786b69acc140d282b71a49"
  },
  "kernelspec": {
   "display_name": "Python 3.8.1 64-bit",
   "name": "python3"
  },
  "language_info": {
   "codemirror_mode": {
    "name": "ipython",
    "version": 3
   },
   "file_extension": ".py",
   "mimetype": "text/x-python",
   "name": "python",
   "nbconvert_exporter": "python",
   "pygments_lexer": "ipython3",
   "version": "3.8.1"
  }
 },
 "nbformat": 4,
 "nbformat_minor": 4
}